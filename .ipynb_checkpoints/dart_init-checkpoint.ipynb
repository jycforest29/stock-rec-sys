{
 "cells": [
  {
   "cell_type": "code",
   "execution_count": 12,
   "id": "8f1264b4",
   "metadata": {},
   "outputs": [],
   "source": [
    "import dart_fss as dart\n",
    "import pymysql"
   ]
  },
  {
   "cell_type": "code",
   "execution_count": 13,
   "id": "d9cf40dd",
   "metadata": {},
   "outputs": [],
   "source": [
    "import import_ipynb"
   ]
  },
  {
   "cell_type": "code",
   "execution_count": 14,
   "id": "c1d09291",
   "metadata": {
    "scrolled": true
   },
   "outputs": [
    {
     "data": {
      "text/plain": [
       "'\\t1c6dbdbbb0cf307d3455b383d0b780d09e83bfb7'"
      ]
     },
     "execution_count": 14,
     "metadata": {},
     "output_type": "execute_result"
    }
   ],
   "source": [
    "# api 키 세팅\n",
    "from settings import api_key\n",
    "\n",
    "api_key = api_key\n",
    "dart.set_api_key(api_key = api_key)"
   ]
  },
  {
   "cell_type": "code",
   "execution_count": 25,
   "id": "fe0ba3e8",
   "metadata": {},
   "outputs": [],
   "source": [
    "from settings import conn"
   ]
  },
  {
   "cell_type": "code",
   "execution_count": 26,
   "id": "5343e6fa",
   "metadata": {},
   "outputs": [],
   "source": [
    "conn = conn"
   ]
  },
  {
   "cell_type": "code",
   "execution_count": 27,
   "id": "120d22b6",
   "metadata": {},
   "outputs": [],
   "source": [
    "cursor = conn.cursor()"
   ]
  },
  {
   "cell_type": "code",
   "execution_count": 38,
   "id": "321ad07d",
   "metadata": {},
   "outputs": [],
   "source": [
    "def create(sql):\n",
    "    cursor.execute(sql)"
   ]
  },
  {
   "cell_type": "code",
   "execution_count": 29,
   "id": "156ce301",
   "metadata": {},
   "outputs": [
    {
     "data": {
      "application/vnd.jupyter.widget-view+json": {
       "model_id": "5c385f3ea353461f9bb8bdd7c6e795cc",
       "version_major": 2,
       "version_minor": 0
      },
      "text/plain": [
       "Output()"
      ]
     },
     "metadata": {},
     "output_type": "display_data"
    },
    {
     "data": {
      "application/vnd.jupyter.widget-view+json": {
       "model_id": "fd53e3fea7504ae8a38228d1224ce563",
       "version_major": 2,
       "version_minor": 0
      },
      "text/plain": [
       "Output()"
      ]
     },
     "metadata": {},
     "output_type": "display_data"
    },
    {
     "data": {
      "application/vnd.jupyter.widget-view+json": {
       "model_id": "31febc0ea70b4f34aae6bd53b0b5fd99",
       "version_major": 2,
       "version_minor": 0
      },
      "text/plain": [
       "Output()"
      ]
     },
     "metadata": {},
     "output_type": "display_data"
    }
   ],
   "source": [
    "# 모든 상장된 기업 리스트 불러오기\n",
    "corp_list = dart.get_corp_list()\n",
    "sector_list = corp_list.sectors"
   ]
  },
  {
   "cell_type": "markdown",
   "id": "73ab1e68",
   "metadata": {},
   "source": [
    "# sector table create "
   ]
  },
  {
   "cell_type": "code",
   "execution_count": 36,
   "id": "4a7bbc46",
   "metadata": {},
   "outputs": [],
   "source": [
    "sql = \"CREATE TABLE IF NOT EXISTS sector(name varchar(255) not null, primary key (name))\""
   ]
  },
  {
   "cell_type": "code",
   "execution_count": 39,
   "id": "891bf04b",
   "metadata": {},
   "outputs": [],
   "source": [
    "# sector 테이블 create\n",
    "create(sql)"
   ]
  },
  {
   "cell_type": "code",
   "execution_count": 40,
   "id": "a41d8e5f",
   "metadata": {},
   "outputs": [],
   "source": [
    "conn.commit()"
   ]
  },
  {
   "cell_type": "code",
   "execution_count": 32,
   "id": "72d739f9",
   "metadata": {},
   "outputs": [],
   "source": [
    "sql = \"INSERT INTO sector (name) VALUES (%s)\""
   ]
  },
  {
   "cell_type": "code",
   "execution_count": 35,
   "id": "93d7327d",
   "metadata": {},
   "outputs": [
    {
     "ename": "IntegrityError",
     "evalue": "(1062, \"Duplicate entry '1차 비철금속 제조업' for key 'sector.PRIMARY'\")",
     "output_type": "error",
     "traceback": [
      "\u001b[1;31m---------------------------------------------------------------------------\u001b[0m",
      "\u001b[1;31mIntegrityError\u001b[0m                            Traceback (most recent call last)",
      "Cell \u001b[1;32mIn [35], line 3\u001b[0m\n\u001b[0;32m      1\u001b[0m \u001b[38;5;66;03m# sector 테이블 insert\u001b[39;00m\n\u001b[0;32m      2\u001b[0m \u001b[38;5;28;01mfor\u001b[39;00m i \u001b[38;5;129;01min\u001b[39;00m sector_list:\n\u001b[1;32m----> 3\u001b[0m     \u001b[43mcursor\u001b[49m\u001b[38;5;241;43m.\u001b[39;49m\u001b[43mexecute\u001b[49m\u001b[43m(\u001b[49m\u001b[43msql\u001b[49m\u001b[43m,\u001b[49m\u001b[43m \u001b[49m\u001b[43m(\u001b[49m\u001b[43mi\u001b[49m\u001b[43m)\u001b[49m\u001b[43m)\u001b[49m\n\u001b[0;32m      4\u001b[0m     conn\u001b[38;5;241m.\u001b[39mcommit()\n",
      "File \u001b[1;32m~\\Desktop\\stock-recsys-pipeline\\env\\lib\\site-packages\\pymysql\\cursors.py:148\u001b[0m, in \u001b[0;36mCursor.execute\u001b[1;34m(self, query, args)\u001b[0m\n\u001b[0;32m    144\u001b[0m     \u001b[38;5;28;01mpass\u001b[39;00m\n\u001b[0;32m    146\u001b[0m query \u001b[38;5;241m=\u001b[39m \u001b[38;5;28mself\u001b[39m\u001b[38;5;241m.\u001b[39mmogrify(query, args)\n\u001b[1;32m--> 148\u001b[0m result \u001b[38;5;241m=\u001b[39m \u001b[38;5;28;43mself\u001b[39;49m\u001b[38;5;241;43m.\u001b[39;49m\u001b[43m_query\u001b[49m\u001b[43m(\u001b[49m\u001b[43mquery\u001b[49m\u001b[43m)\u001b[49m\n\u001b[0;32m    149\u001b[0m \u001b[38;5;28mself\u001b[39m\u001b[38;5;241m.\u001b[39m_executed \u001b[38;5;241m=\u001b[39m query\n\u001b[0;32m    150\u001b[0m \u001b[38;5;28;01mreturn\u001b[39;00m result\n",
      "File \u001b[1;32m~\\Desktop\\stock-recsys-pipeline\\env\\lib\\site-packages\\pymysql\\cursors.py:310\u001b[0m, in \u001b[0;36mCursor._query\u001b[1;34m(self, q)\u001b[0m\n\u001b[0;32m    308\u001b[0m \u001b[38;5;28mself\u001b[39m\u001b[38;5;241m.\u001b[39m_last_executed \u001b[38;5;241m=\u001b[39m q\n\u001b[0;32m    309\u001b[0m \u001b[38;5;28mself\u001b[39m\u001b[38;5;241m.\u001b[39m_clear_result()\n\u001b[1;32m--> 310\u001b[0m \u001b[43mconn\u001b[49m\u001b[38;5;241;43m.\u001b[39;49m\u001b[43mquery\u001b[49m\u001b[43m(\u001b[49m\u001b[43mq\u001b[49m\u001b[43m)\u001b[49m\n\u001b[0;32m    311\u001b[0m \u001b[38;5;28mself\u001b[39m\u001b[38;5;241m.\u001b[39m_do_get_result()\n\u001b[0;32m    312\u001b[0m \u001b[38;5;28;01mreturn\u001b[39;00m \u001b[38;5;28mself\u001b[39m\u001b[38;5;241m.\u001b[39mrowcount\n",
      "File \u001b[1;32m~\\Desktop\\stock-recsys-pipeline\\env\\lib\\site-packages\\pymysql\\connections.py:548\u001b[0m, in \u001b[0;36mConnection.query\u001b[1;34m(self, sql, unbuffered)\u001b[0m\n\u001b[0;32m    546\u001b[0m     sql \u001b[38;5;241m=\u001b[39m sql\u001b[38;5;241m.\u001b[39mencode(\u001b[38;5;28mself\u001b[39m\u001b[38;5;241m.\u001b[39mencoding, \u001b[38;5;124m\"\u001b[39m\u001b[38;5;124msurrogateescape\u001b[39m\u001b[38;5;124m\"\u001b[39m)\n\u001b[0;32m    547\u001b[0m \u001b[38;5;28mself\u001b[39m\u001b[38;5;241m.\u001b[39m_execute_command(COMMAND\u001b[38;5;241m.\u001b[39mCOM_QUERY, sql)\n\u001b[1;32m--> 548\u001b[0m \u001b[38;5;28mself\u001b[39m\u001b[38;5;241m.\u001b[39m_affected_rows \u001b[38;5;241m=\u001b[39m \u001b[38;5;28;43mself\u001b[39;49m\u001b[38;5;241;43m.\u001b[39;49m\u001b[43m_read_query_result\u001b[49m\u001b[43m(\u001b[49m\u001b[43munbuffered\u001b[49m\u001b[38;5;241;43m=\u001b[39;49m\u001b[43munbuffered\u001b[49m\u001b[43m)\u001b[49m\n\u001b[0;32m    549\u001b[0m \u001b[38;5;28;01mreturn\u001b[39;00m \u001b[38;5;28mself\u001b[39m\u001b[38;5;241m.\u001b[39m_affected_rows\n",
      "File \u001b[1;32m~\\Desktop\\stock-recsys-pipeline\\env\\lib\\site-packages\\pymysql\\connections.py:775\u001b[0m, in \u001b[0;36mConnection._read_query_result\u001b[1;34m(self, unbuffered)\u001b[0m\n\u001b[0;32m    773\u001b[0m \u001b[38;5;28;01melse\u001b[39;00m:\n\u001b[0;32m    774\u001b[0m     result \u001b[38;5;241m=\u001b[39m MySQLResult(\u001b[38;5;28mself\u001b[39m)\n\u001b[1;32m--> 775\u001b[0m     \u001b[43mresult\u001b[49m\u001b[38;5;241;43m.\u001b[39;49m\u001b[43mread\u001b[49m\u001b[43m(\u001b[49m\u001b[43m)\u001b[49m\n\u001b[0;32m    776\u001b[0m \u001b[38;5;28mself\u001b[39m\u001b[38;5;241m.\u001b[39m_result \u001b[38;5;241m=\u001b[39m result\n\u001b[0;32m    777\u001b[0m \u001b[38;5;28;01mif\u001b[39;00m result\u001b[38;5;241m.\u001b[39mserver_status \u001b[38;5;129;01mis\u001b[39;00m \u001b[38;5;129;01mnot\u001b[39;00m \u001b[38;5;28;01mNone\u001b[39;00m:\n",
      "File \u001b[1;32m~\\Desktop\\stock-recsys-pipeline\\env\\lib\\site-packages\\pymysql\\connections.py:1156\u001b[0m, in \u001b[0;36mMySQLResult.read\u001b[1;34m(self)\u001b[0m\n\u001b[0;32m   1154\u001b[0m \u001b[38;5;28;01mdef\u001b[39;00m \u001b[38;5;21mread\u001b[39m(\u001b[38;5;28mself\u001b[39m):\n\u001b[0;32m   1155\u001b[0m     \u001b[38;5;28;01mtry\u001b[39;00m:\n\u001b[1;32m-> 1156\u001b[0m         first_packet \u001b[38;5;241m=\u001b[39m \u001b[38;5;28;43mself\u001b[39;49m\u001b[38;5;241;43m.\u001b[39;49m\u001b[43mconnection\u001b[49m\u001b[38;5;241;43m.\u001b[39;49m\u001b[43m_read_packet\u001b[49m\u001b[43m(\u001b[49m\u001b[43m)\u001b[49m\n\u001b[0;32m   1158\u001b[0m         \u001b[38;5;28;01mif\u001b[39;00m first_packet\u001b[38;5;241m.\u001b[39mis_ok_packet():\n\u001b[0;32m   1159\u001b[0m             \u001b[38;5;28mself\u001b[39m\u001b[38;5;241m.\u001b[39m_read_ok_packet(first_packet)\n",
      "File \u001b[1;32m~\\Desktop\\stock-recsys-pipeline\\env\\lib\\site-packages\\pymysql\\connections.py:725\u001b[0m, in \u001b[0;36mConnection._read_packet\u001b[1;34m(self, packet_type)\u001b[0m\n\u001b[0;32m    723\u001b[0m     \u001b[38;5;28;01mif\u001b[39;00m \u001b[38;5;28mself\u001b[39m\u001b[38;5;241m.\u001b[39m_result \u001b[38;5;129;01mis\u001b[39;00m \u001b[38;5;129;01mnot\u001b[39;00m \u001b[38;5;28;01mNone\u001b[39;00m \u001b[38;5;129;01mand\u001b[39;00m \u001b[38;5;28mself\u001b[39m\u001b[38;5;241m.\u001b[39m_result\u001b[38;5;241m.\u001b[39munbuffered_active \u001b[38;5;129;01mis\u001b[39;00m \u001b[38;5;28;01mTrue\u001b[39;00m:\n\u001b[0;32m    724\u001b[0m         \u001b[38;5;28mself\u001b[39m\u001b[38;5;241m.\u001b[39m_result\u001b[38;5;241m.\u001b[39munbuffered_active \u001b[38;5;241m=\u001b[39m \u001b[38;5;28;01mFalse\u001b[39;00m\n\u001b[1;32m--> 725\u001b[0m     \u001b[43mpacket\u001b[49m\u001b[38;5;241;43m.\u001b[39;49m\u001b[43mraise_for_error\u001b[49m\u001b[43m(\u001b[49m\u001b[43m)\u001b[49m\n\u001b[0;32m    726\u001b[0m \u001b[38;5;28;01mreturn\u001b[39;00m packet\n",
      "File \u001b[1;32m~\\Desktop\\stock-recsys-pipeline\\env\\lib\\site-packages\\pymysql\\protocol.py:221\u001b[0m, in \u001b[0;36mMysqlPacket.raise_for_error\u001b[1;34m(self)\u001b[0m\n\u001b[0;32m    219\u001b[0m \u001b[38;5;28;01mif\u001b[39;00m DEBUG:\n\u001b[0;32m    220\u001b[0m     \u001b[38;5;28mprint\u001b[39m(\u001b[38;5;124m\"\u001b[39m\u001b[38;5;124merrno =\u001b[39m\u001b[38;5;124m\"\u001b[39m, errno)\n\u001b[1;32m--> 221\u001b[0m \u001b[43merr\u001b[49m\u001b[38;5;241;43m.\u001b[39;49m\u001b[43mraise_mysql_exception\u001b[49m\u001b[43m(\u001b[49m\u001b[38;5;28;43mself\u001b[39;49m\u001b[38;5;241;43m.\u001b[39;49m\u001b[43m_data\u001b[49m\u001b[43m)\u001b[49m\n",
      "File \u001b[1;32m~\\Desktop\\stock-recsys-pipeline\\env\\lib\\site-packages\\pymysql\\err.py:143\u001b[0m, in \u001b[0;36mraise_mysql_exception\u001b[1;34m(data)\u001b[0m\n\u001b[0;32m    141\u001b[0m \u001b[38;5;28;01mif\u001b[39;00m errorclass \u001b[38;5;129;01mis\u001b[39;00m \u001b[38;5;28;01mNone\u001b[39;00m:\n\u001b[0;32m    142\u001b[0m     errorclass \u001b[38;5;241m=\u001b[39m InternalError \u001b[38;5;28;01mif\u001b[39;00m errno \u001b[38;5;241m<\u001b[39m \u001b[38;5;241m1000\u001b[39m \u001b[38;5;28;01melse\u001b[39;00m OperationalError\n\u001b[1;32m--> 143\u001b[0m \u001b[38;5;28;01mraise\u001b[39;00m errorclass(errno, errval)\n",
      "\u001b[1;31mIntegrityError\u001b[0m: (1062, \"Duplicate entry '1차 비철금속 제조업' for key 'sector.PRIMARY'\")"
     ]
    }
   ],
   "source": [
    "# sector 테이블 insert\n",
    "for i in sector_list:\n",
    "    cursor.execute(sql, (i))\n",
    "    conn.commit()"
   ]
  },
  {
   "cell_type": "markdown",
   "id": "fb270cef",
   "metadata": {},
   "source": [
    "# stock table create"
   ]
  },
  {
   "cell_type": "code",
   "execution_count": 28,
   "id": "c0e0faf4",
   "metadata": {},
   "outputs": [],
   "source": [
    "sql = \"CREATE TABLE IF NOT EXISTS stock(code varchar(9) not null, name varchar(255) not null, market varchar(1) not null, sector_name varchar(255) not null, primary key (code), foreign key (sector_name) references sector(name) on update restrict on delete restrict)\""
   ]
  },
  {
   "cell_type": "code",
   "execution_count": 29,
   "id": "f44c37b4",
   "metadata": {},
   "outputs": [],
   "source": [
    "# stock 테이블 create\n",
    "create(sql)"
   ]
  },
  {
   "cell_type": "markdown",
   "id": "f800f1c1",
   "metadata": {},
   "source": [
    "# stock all record insert"
   ]
  },
  {
   "cell_type": "code",
   "execution_count": 30,
   "id": "1e1b6f44",
   "metadata": {},
   "outputs": [],
   "source": [
    "sql = \"INSERT INTO stock (code, name, market, sector_name) VALUES (%s, %s, %s, %s)\""
   ]
  },
  {
   "cell_type": "code",
   "execution_count": 31,
   "id": "771c86ab",
   "metadata": {},
   "outputs": [],
   "source": [
    "# stock 테이블 insert\n",
    "for i in sector_list:\n",
    "    # i와 일대다 관계로 res_by_sector의 corp_code(DB X), corp_name(종목 이름), stock_code(주식 종목 코드)\n",
    "    corps_by_y_sector = corp_list.find_by_sector(i, market ='Y') # 코스피\n",
    "    corps_by_k_sector = corp_list.find_by_sector(i, market ='K') # 코스닥\n",
    "    if corps_by_y_sector is not None:\n",
    "        for j in corps_by_y_sector:\n",
    "            try:\n",
    "                cur.execute(sql, (j.stock_code, j.corp_name, 'Y', i)) \n",
    "            except:\n",
    "                pass\n",
    "    if corps_by_k_sector is not None:\n",
    "        for j in corps_by_k_sector:\n",
    "            try:\n",
    "                cur.execute(sql, (j.stock_code, j.corp_name, 'K', i)) \n",
    "            except:\n",
    "                pass\n",
    "\n",
    "conn.commit()"
   ]
  },
  {
   "cell_type": "code",
   "execution_count": null,
   "id": "7d253770",
   "metadata": {},
   "outputs": [],
   "source": [
    "conn.close()"
   ]
  },
  {
   "cell_type": "markdown",
   "id": "f6a7fb6f",
   "metadata": {},
   "source": [
    "# ----------재무제표 반영하지 않음(즉 아래 줄부터)------------"
   ]
  },
  {
   "cell_type": "markdown",
   "id": "ed7db129",
   "metadata": {},
   "source": [
    "# finance table create"
   ]
  },
  {
   "cell_type": "code",
   "execution_count": 24,
   "id": "0992c41d",
   "metadata": {},
   "outputs": [],
   "source": [
    "sql = \"CREATE TABLE IF NOT EXISTS finance(id int not null auto_increment, per decimal(3, 2) not null, pbr decimal(3, 2) not null, roe decimal(3, 2) not null, rate decimal(3, 2) not null, stock_id int not null, primary key (id), foreign key (stock_id) references stock(id) on update cascade on delete cascade)\""
   ]
  },
  {
   "cell_type": "code",
   "execution_count": 25,
   "id": "41cff66d",
   "metadata": {},
   "outputs": [],
   "source": [
    "create(sql)"
   ]
  },
  {
   "cell_type": "markdown",
   "id": "946dc5ec",
   "metadata": {},
   "source": [
    "# finance all record insert"
   ]
  },
  {
   "cell_type": "code",
   "execution_count": 28,
   "id": "b252ad4b",
   "metadata": {},
   "outputs": [],
   "source": [
    "def get_roe(corp):\n",
    "    try:\n",
    "        fs = dart.fs.extract(corp_code = corp.corp_code, bgn_de = \"20220929\", report_tp = ['quarter'])\n",
    "        df_fs = fs['bs']\n",
    "        df_is = fs['is']\n",
    "        \n",
    "        # 당기순이익\n",
    "        net_income_t = df_is.loc[df_is[('[D310000] Income statement, by function of expense - Consolidated financial statements (Unit: KRW)', 'label_ko')] == '당기순이익(손실)']['20220701-20220930']\n",
    "        net_income = int(net_income.iloc[0][0])\n",
    "        \n",
    "        # 자본총계\n",
    "        sum_of_capital_t = df_fs.loc[df_fs[('[D210000] Statement of financial position, current/non-current - Consolidated financial statements (Unit: KRW)', 'label_ko')] == '자본총계']['20220930']\n",
    "        sum_of_capital = int(sum_of_capital_t.iloc[0][0])\n",
    "        \n",
    "        roe = (net_income/sum_of_capital)*100\n",
    "        \n",
    "        # 종목 pk 가져오기\n",
    "        sql = \"SELECT FROM stock where name='{0}' and code = '{1}'\".format(corp.corp_name, corp.stock_code+\".KS\")\n",
    "        with conn:\n",
    "            with conn.cursor() as cur:\n",
    "                cur.execute(sql)\n",
    "                stock_id = cur.fetchall()[0][0]\n",
    "            conn.commit()\n",
    "        \n",
    "        sql = \"INSERT INTO finance (per, pbr, roe, rate, stock_id) VALUES (%d, %d, %d, %d, %d)\"\n",
    "        \n",
    "        with conn:\n",
    "            with conn.cursor() as cur:\n",
    "                cur.execute(sql, (0, 0, roe, roe, stock_id))\n",
    "            conn.commit()\n",
    "    except:\n",
    "        stock_delete(corp)"
   ]
  },
  {
   "cell_type": "code",
   "execution_count": null,
   "id": "ca56e222",
   "metadata": {},
   "outputs": [
    {
     "data": {
      "application/vnd.jupyter.widget-view+json": {
       "model_id": "1e598c09505548cea68322862f4c0cdb",
       "version_major": 2,
       "version_minor": 0
      },
      "text/plain": [
       "Quarterly reports:   0%|          | 0/1 [00:00<?, ?report/s]"
      ]
     },
     "metadata": {},
     "output_type": "display_data"
    },
    {
     "data": {
      "application/vnd.jupyter.widget-view+json": {
       "model_id": "b0526bcdd4da4712bf0aa214a877bf93",
       "version_major": 2,
       "version_minor": 0
      },
      "text/plain": [
       "Quarterly reports:   0%|          | 0/1 [00:00<?, ?report/s]"
      ]
     },
     "metadata": {},
     "output_type": "display_data"
    },
    {
     "data": {
      "application/vnd.jupyter.widget-view+json": {
       "model_id": "392b87ea18154545912620ec81165220",
       "version_major": 2,
       "version_minor": 0
      },
      "text/plain": [
       "Quarterly reports:   0%|          | 0/1 [00:00<?, ?report/s]"
      ]
     },
     "metadata": {},
     "output_type": "display_data"
    },
    {
     "data": {
      "application/vnd.jupyter.widget-view+json": {
       "model_id": "52b7dd1b7fa246898ece142750b8db44",
       "version_major": 2,
       "version_minor": 0
      },
      "text/plain": [
       "Quarterly reports:   0%|          | 0/1 [00:00<?, ?report/s]"
      ]
     },
     "metadata": {},
     "output_type": "display_data"
    },
    {
     "name": "stderr",
     "output_type": "stream",
     "text": [
      "Traceback (most recent call last):\n",
      "  File \"C:\\Users\\USER\\Desktop\\stock-recsys-pipeline\\env\\lib\\site-packages\\dart_fss\\fs\\extract.py\", line 1411, in extract\n",
      "    statements = analyze_report(report=report,\n",
      "  File \"C:\\Users\\USER\\Desktop\\stock-recsys-pipeline\\env\\lib\\site-packages\\dart_fss\\fs\\extract.py\", line 1264, in analyze_report\n",
      "    raise NotFoundConsolidated('Could not find consolidated financial statements')\n",
      "dart_fss.errors.errors.NotFoundConsolidated: Could not find consolidated financial statements\n",
      "C:\\Users\\USER\\Desktop\\stock-recsys-pipeline\\env\\lib\\site-packages\\dart_fss\\fs\\extract.py:1440: RuntimeWarning: Unable to extract financial statements: {'rcp_no': '20221114000694', 'corp_code': '00145464', 'corp_name': '이구산업', 'stock_code': '025820', 'corp_cls': 'Y', 'report_nm': '분기보고서 (2022.09)', 'flr_nm': '이구산업', 'rcept_dt': '20221114', 'rm': ''}.\n",
      "  warnings.warn(warnings_text, RuntimeWarning)\n"
     ]
    },
    {
     "data": {
      "application/vnd.jupyter.widget-view+json": {
       "model_id": "054c60b273f0424abc64c02f5390d20f",
       "version_major": 2,
       "version_minor": 0
      },
      "text/plain": [
       "Quarterly reports:   0%|          | 0/1 [00:00<?, ?report/s]"
      ]
     },
     "metadata": {},
     "output_type": "display_data"
    },
    {
     "data": {
      "application/vnd.jupyter.widget-view+json": {
       "model_id": "2adfa485f81b416f91a60dd523f668f0",
       "version_major": 2,
       "version_minor": 0
      },
      "text/plain": [
       "Quarterly reports:   0%|          | 0/1 [00:00<?, ?report/s]"
      ]
     },
     "metadata": {},
     "output_type": "display_data"
    },
    {
     "name": "stderr",
     "output_type": "stream",
     "text": [
      "Traceback (most recent call last):\n",
      "  File \"C:\\Users\\USER\\Desktop\\stock-recsys-pipeline\\env\\lib\\site-packages\\dart_fss\\fs\\extract.py\", line 1411, in extract\n",
      "    statements = analyze_report(report=report,\n",
      "  File \"C:\\Users\\USER\\Desktop\\stock-recsys-pipeline\\env\\lib\\site-packages\\dart_fss\\fs\\extract.py\", line 1264, in analyze_report\n",
      "    raise NotFoundConsolidated('Could not find consolidated financial statements')\n",
      "dart_fss.errors.errors.NotFoundConsolidated: Could not find consolidated financial statements\n",
      "C:\\Users\\USER\\Desktop\\stock-recsys-pipeline\\env\\lib\\site-packages\\dart_fss\\fs\\extract.py:1440: RuntimeWarning: Unable to extract financial statements: {'rcp_no': '20221114001184', 'corp_code': '00428729', 'corp_name': '대호에이엘', 'stock_code': '069460', 'corp_cls': 'Y', 'report_nm': '분기보고서 (2022.09)', 'flr_nm': '대호에이엘', 'rcept_dt': '20221114', 'rm': ''}.\n",
      "  warnings.warn(warnings_text, RuntimeWarning)\n"
     ]
    },
    {
     "data": {
      "application/vnd.jupyter.widget-view+json": {
       "model_id": "b3a9223561584d21aa7694929a2d290e",
       "version_major": 2,
       "version_minor": 0
      },
      "text/plain": [
       "Quarterly reports:   0%|          | 0/1 [00:00<?, ?report/s]"
      ]
     },
     "metadata": {},
     "output_type": "display_data"
    },
    {
     "data": {
      "application/vnd.jupyter.widget-view+json": {
       "model_id": "8972a04174244a86a65e1d3289c4ea87",
       "version_major": 2,
       "version_minor": 0
      },
      "text/plain": [
       "Quarterly reports:   0%|          | 0/1 [00:00<?, ?report/s]"
      ]
     },
     "metadata": {},
     "output_type": "display_data"
    },
    {
     "data": {
      "application/vnd.jupyter.widget-view+json": {
       "model_id": "386ac15dd62b4412a120eea86d5316e9",
       "version_major": 2,
       "version_minor": 0
      },
      "text/plain": [
       "Quarterly reports:   0%|          | 0/1 [00:00<?, ?report/s]"
      ]
     },
     "metadata": {},
     "output_type": "display_data"
    },
    {
     "data": {
      "application/vnd.jupyter.widget-view+json": {
       "model_id": "ebcdd93ad9df45f684c627b210985a54",
       "version_major": 2,
       "version_minor": 0
      },
      "text/plain": [
       "Quarterly reports:   0%|          | 0/1 [00:00<?, ?report/s]"
      ]
     },
     "metadata": {},
     "output_type": "display_data"
    },
    {
     "name": "stderr",
     "output_type": "stream",
     "text": [
      "Traceback (most recent call last):\n",
      "  File \"C:\\Users\\USER\\Desktop\\stock-recsys-pipeline\\env\\lib\\site-packages\\dart_fss\\fs\\extract.py\", line 1411, in extract\n",
      "    statements = analyze_report(report=report,\n",
      "  File \"C:\\Users\\USER\\Desktop\\stock-recsys-pipeline\\env\\lib\\site-packages\\dart_fss\\fs\\extract.py\", line 1264, in analyze_report\n",
      "    raise NotFoundConsolidated('Could not find consolidated financial statements')\n",
      "dart_fss.errors.errors.NotFoundConsolidated: Could not find consolidated financial statements\n",
      "C:\\Users\\USER\\Desktop\\stock-recsys-pipeline\\env\\lib\\site-packages\\dart_fss\\fs\\extract.py:1440: RuntimeWarning: Unable to extract financial statements: {'rcp_no': '20221114001363', 'corp_code': '00149239', 'corp_name': '조일알미늄', 'stock_code': '018470', 'corp_cls': 'Y', 'report_nm': '분기보고서 (2022.09)', 'flr_nm': '조일알미늄', 'rcept_dt': '20221114', 'rm': ''}.\n",
      "  warnings.warn(warnings_text, RuntimeWarning)\n"
     ]
    },
    {
     "data": {
      "application/vnd.jupyter.widget-view+json": {
       "model_id": "457b1482fe2349558093aab9f6f9c5eb",
       "version_major": 2,
       "version_minor": 0
      },
      "text/plain": [
       "Quarterly reports:   0%|          | 0/1 [00:00<?, ?report/s]"
      ]
     },
     "metadata": {},
     "output_type": "display_data"
    },
    {
     "data": {
      "application/vnd.jupyter.widget-view+json": {
       "model_id": "98238fe95d594b89a8060230cc5faeef",
       "version_major": 2,
       "version_minor": 0
      },
      "text/plain": [
       "Quarterly reports:   0%|          | 0/1 [00:00<?, ?report/s]"
      ]
     },
     "metadata": {},
     "output_type": "display_data"
    },
    {
     "data": {
      "application/vnd.jupyter.widget-view+json": {
       "model_id": "60207c58d0b84475afbd08e868763df6",
       "version_major": 2,
       "version_minor": 0
      },
      "text/plain": [
       "Quarterly reports:   0%|          | 0/1 [00:00<?, ?report/s]"
      ]
     },
     "metadata": {},
     "output_type": "display_data"
    },
    {
     "data": {
      "application/vnd.jupyter.widget-view+json": {
       "model_id": "82f885e0ceaf4ddcab1f975d7bbf460a",
       "version_major": 2,
       "version_minor": 0
      },
      "text/plain": [
       "Quarterly reports:   0%|          | 0/1 [00:00<?, ?report/s]"
      ]
     },
     "metadata": {},
     "output_type": "display_data"
    },
    {
     "name": "stderr",
     "output_type": "stream",
     "text": [
      "Traceback (most recent call last):\n",
      "  File \"C:\\Users\\USER\\Desktop\\stock-recsys-pipeline\\env\\lib\\site-packages\\dart_fss\\fs\\extract.py\", line 1411, in extract\n",
      "    statements = analyze_report(report=report,\n",
      "  File \"C:\\Users\\USER\\Desktop\\stock-recsys-pipeline\\env\\lib\\site-packages\\dart_fss\\fs\\extract.py\", line 1264, in analyze_report\n",
      "    raise NotFoundConsolidated('Could not find consolidated financial statements')\n",
      "dart_fss.errors.errors.NotFoundConsolidated: Could not find consolidated financial statements\n",
      "C:\\Users\\USER\\Desktop\\stock-recsys-pipeline\\env\\lib\\site-packages\\dart_fss\\fs\\extract.py:1440: RuntimeWarning: Unable to extract financial statements: {'rcp_no': '20221114001483', 'corp_code': '00829380', 'corp_name': '피제이메탈', 'stock_code': '128660', 'corp_cls': 'K', 'report_nm': '분기보고서 (2022.09)', 'flr_nm': '피제이메탈', 'rcept_dt': '20221114', 'rm': ''}.\n",
      "  warnings.warn(warnings_text, RuntimeWarning)\n"
     ]
    },
    {
     "data": {
      "application/vnd.jupyter.widget-view+json": {
       "model_id": "6e8912915d9041f8905267cb86cb9c48",
       "version_major": 2,
       "version_minor": 0
      },
      "text/plain": [
       "Quarterly reports:   0%|          | 0/1 [00:00<?, ?report/s]"
      ]
     },
     "metadata": {},
     "output_type": "display_data"
    },
    {
     "name": "stderr",
     "output_type": "stream",
     "text": [
      "Traceback (most recent call last):\n",
      "  File \"C:\\Users\\USER\\Desktop\\stock-recsys-pipeline\\env\\lib\\site-packages\\dart_fss\\fs\\extract.py\", line 1411, in extract\n",
      "    statements = analyze_report(report=report,\n",
      "  File \"C:\\Users\\USER\\Desktop\\stock-recsys-pipeline\\env\\lib\\site-packages\\dart_fss\\fs\\extract.py\", line 1264, in analyze_report\n",
      "    raise NotFoundConsolidated('Could not find consolidated financial statements')\n",
      "dart_fss.errors.errors.NotFoundConsolidated: Could not find consolidated financial statements\n",
      "C:\\Users\\USER\\Desktop\\stock-recsys-pipeline\\env\\lib\\site-packages\\dart_fss\\fs\\extract.py:1440: RuntimeWarning: Unable to extract financial statements: {'rcp_no': '20221111000535', 'corp_code': '00202839', 'corp_name': '한창산업', 'stock_code': '079170', 'corp_cls': 'K', 'report_nm': '분기보고서 (2022.09)', 'flr_nm': '한창산업', 'rcept_dt': '20221111', 'rm': ''}.\n",
      "  warnings.warn(warnings_text, RuntimeWarning)\n"
     ]
    },
    {
     "data": {
      "application/vnd.jupyter.widget-view+json": {
       "model_id": "9d5adb2ac15b4d0d85993771c3f1a06b",
       "version_major": 2,
       "version_minor": 0
      },
      "text/plain": [
       "Quarterly reports:   0%|          | 0/1 [00:00<?, ?report/s]"
      ]
     },
     "metadata": {},
     "output_type": "display_data"
    },
    {
     "data": {
      "application/vnd.jupyter.widget-view+json": {
       "model_id": "a60e6ab3254e41bdb8f30e30a705a6d3",
       "version_major": 2,
       "version_minor": 0
      },
      "text/plain": [
       "Quarterly reports:   0%|          | 0/1 [00:00<?, ?report/s]"
      ]
     },
     "metadata": {},
     "output_type": "display_data"
    },
    {
     "name": "stderr",
     "output_type": "stream",
     "text": [
      "Traceback (most recent call last):\n",
      "  File \"C:\\Users\\USER\\Desktop\\stock-recsys-pipeline\\env\\lib\\site-packages\\dart_fss\\fs\\extract.py\", line 1411, in extract\n",
      "    statements = analyze_report(report=report,\n",
      "  File \"C:\\Users\\USER\\Desktop\\stock-recsys-pipeline\\env\\lib\\site-packages\\dart_fss\\fs\\extract.py\", line 1264, in analyze_report\n",
      "    raise NotFoundConsolidated('Could not find consolidated financial statements')\n",
      "dart_fss.errors.errors.NotFoundConsolidated: Could not find consolidated financial statements\n",
      "C:\\Users\\USER\\Desktop\\stock-recsys-pipeline\\env\\lib\\site-packages\\dart_fss\\fs\\extract.py:1440: RuntimeWarning: Unable to extract financial statements: {'rcp_no': '20221109000185', 'corp_code': '00203847', 'corp_name': '국일신동', 'stock_code': '060480', 'corp_cls': 'K', 'report_nm': '분기보고서 (2022.09)', 'flr_nm': '국일신동', 'rcept_dt': '20221109', 'rm': ''}.\n",
      "  warnings.warn(warnings_text, RuntimeWarning)\n"
     ]
    },
    {
     "data": {
      "application/vnd.jupyter.widget-view+json": {
       "model_id": "fdf9fa7a489040ab93bcde443859fa6c",
       "version_major": 2,
       "version_minor": 0
      },
      "text/plain": [
       "Quarterly reports:   0%|          | 0/1 [00:00<?, ?report/s]"
      ]
     },
     "metadata": {},
     "output_type": "display_data"
    },
    {
     "data": {
      "application/vnd.jupyter.widget-view+json": {
       "model_id": "17b762cd5c3c4c80a6057f15825e91e3",
       "version_major": 2,
       "version_minor": 0
      },
      "text/plain": [
       "Quarterly reports:   0%|          | 0/1 [00:00<?, ?report/s]"
      ]
     },
     "metadata": {},
     "output_type": "display_data"
    },
    {
     "data": {
      "application/vnd.jupyter.widget-view+json": {
       "model_id": "6431ca8174c9419fabdf9e7af66fd28f",
       "version_major": 2,
       "version_minor": 0
      },
      "text/plain": [
       "Quarterly reports:   0%|          | 0/1 [00:00<?, ?report/s]"
      ]
     },
     "metadata": {},
     "output_type": "display_data"
    },
    {
     "data": {
      "application/vnd.jupyter.widget-view+json": {
       "model_id": "d8befbb70cb2419eb9102ae7082840d9",
       "version_major": 2,
       "version_minor": 0
      },
      "text/plain": [
       "Quarterly reports:   0%|          | 0/1 [00:00<?, ?report/s]"
      ]
     },
     "metadata": {},
     "output_type": "display_data"
    },
    {
     "data": {
      "application/vnd.jupyter.widget-view+json": {
       "model_id": "2c58e3adbeee4f9397097da45fa8a731",
       "version_major": 2,
       "version_minor": 0
      },
      "text/plain": [
       "Quarterly reports:   0%|          | 0/1 [00:00<?, ?report/s]"
      ]
     },
     "metadata": {},
     "output_type": "display_data"
    },
    {
     "name": "stderr",
     "output_type": "stream",
     "text": [
      "Traceback (most recent call last):\n",
      "  File \"C:\\Users\\USER\\Desktop\\stock-recsys-pipeline\\env\\lib\\site-packages\\dart_fss\\fs\\extract.py\", line 1411, in extract\n",
      "    statements = analyze_report(report=report,\n",
      "  File \"C:\\Users\\USER\\Desktop\\stock-recsys-pipeline\\env\\lib\\site-packages\\dart_fss\\fs\\extract.py\", line 1264, in analyze_report\n",
      "    raise NotFoundConsolidated('Could not find consolidated financial statements')\n",
      "dart_fss.errors.errors.NotFoundConsolidated: Could not find consolidated financial statements\n",
      "C:\\Users\\USER\\Desktop\\stock-recsys-pipeline\\env\\lib\\site-packages\\dart_fss\\fs\\extract.py:1440: RuntimeWarning: Unable to extract financial statements: {'rcp_no': '20221114001924', 'corp_code': '00123781', 'corp_name': '부국철강', 'stock_code': '026940', 'corp_cls': 'Y', 'report_nm': '분기보고서 (2022.09)', 'flr_nm': '부국철강', 'rcept_dt': '20221114', 'rm': ''}.\n",
      "  warnings.warn(warnings_text, RuntimeWarning)\n"
     ]
    },
    {
     "data": {
      "application/vnd.jupyter.widget-view+json": {
       "model_id": "30b8bf0a5e064ebfa40ed1de511b40d4",
       "version_major": 2,
       "version_minor": 0
      },
      "text/plain": [
       "Quarterly reports:   0%|          | 0/1 [00:00<?, ?report/s]"
      ]
     },
     "metadata": {},
     "output_type": "display_data"
    },
    {
     "data": {
      "application/vnd.jupyter.widget-view+json": {
       "model_id": "38acd57f6ae94cc2b8c2df3364bba1b9",
       "version_major": 2,
       "version_minor": 0
      },
      "text/plain": [
       "Quarterly reports:   0%|          | 0/1 [00:00<?, ?report/s]"
      ]
     },
     "metadata": {},
     "output_type": "display_data"
    },
    {
     "name": "stderr",
     "output_type": "stream",
     "text": [
      "Traceback (most recent call last):\n",
      "  File \"C:\\Users\\USER\\Desktop\\stock-recsys-pipeline\\env\\lib\\site-packages\\dart_fss\\fs\\extract.py\", line 1411, in extract\n",
      "    statements = analyze_report(report=report,\n",
      "  File \"C:\\Users\\USER\\Desktop\\stock-recsys-pipeline\\env\\lib\\site-packages\\dart_fss\\fs\\extract.py\", line 1264, in analyze_report\n",
      "    raise NotFoundConsolidated('Could not find consolidated financial statements')\n",
      "dart_fss.errors.errors.NotFoundConsolidated: Could not find consolidated financial statements\n",
      "C:\\Users\\USER\\Desktop\\stock-recsys-pipeline\\env\\lib\\site-packages\\dart_fss\\fs\\extract.py:1440: RuntimeWarning: Unable to extract financial statements: {'rcp_no': '20221114000811', 'corp_code': '00116301', 'corp_name': 'NI스틸', 'stock_code': '008260', 'corp_cls': 'Y', 'report_nm': '분기보고서 (2022.09)', 'flr_nm': 'NI스틸', 'rcept_dt': '20221114', 'rm': ''}.\n",
      "  warnings.warn(warnings_text, RuntimeWarning)\n"
     ]
    },
    {
     "data": {
      "application/vnd.jupyter.widget-view+json": {
       "model_id": "e2b56bbb3bd24e4f9c9a903c60291954",
       "version_major": 2,
       "version_minor": 0
      },
      "text/plain": [
       "Quarterly reports:   0%|          | 0/1 [00:00<?, ?report/s]"
      ]
     },
     "metadata": {},
     "output_type": "display_data"
    },
    {
     "name": "stderr",
     "output_type": "stream",
     "text": [
      "Traceback (most recent call last):\n",
      "  File \"C:\\Users\\USER\\Desktop\\stock-recsys-pipeline\\env\\lib\\site-packages\\dart_fss\\fs\\extract.py\", line 1411, in extract\n",
      "    statements = analyze_report(report=report,\n",
      "  File \"C:\\Users\\USER\\Desktop\\stock-recsys-pipeline\\env\\lib\\site-packages\\dart_fss\\fs\\extract.py\", line 1264, in analyze_report\n",
      "    raise NotFoundConsolidated('Could not find consolidated financial statements')\n",
      "dart_fss.errors.errors.NotFoundConsolidated: Could not find consolidated financial statements\n",
      "C:\\Users\\USER\\Desktop\\stock-recsys-pipeline\\env\\lib\\site-packages\\dart_fss\\fs\\extract.py:1440: RuntimeWarning: Unable to extract financial statements: {'rcp_no': '20221114001041', 'corp_code': '00137809', 'corp_name': 'SHD', 'stock_code': '001770', 'corp_cls': 'Y', 'report_nm': '분기보고서 (2022.09)', 'flr_nm': 'SHD', 'rcept_dt': '20221114', 'rm': ''}.\n",
      "  warnings.warn(warnings_text, RuntimeWarning)\n"
     ]
    },
    {
     "data": {
      "application/vnd.jupyter.widget-view+json": {
       "model_id": "a19bcb1793f24dba9eaf107923889367",
       "version_major": 2,
       "version_minor": 0
      },
      "text/plain": [
       "Quarterly reports:   0%|          | 0/1 [00:00<?, ?report/s]"
      ]
     },
     "metadata": {},
     "output_type": "display_data"
    },
    {
     "data": {
      "application/vnd.jupyter.widget-view+json": {
       "model_id": "e4262b18c4cf47aebac014c0a7ff6ed1",
       "version_major": 2,
       "version_minor": 0
      },
      "text/plain": [
       "Quarterly reports:   0%|          | 0/1 [00:00<?, ?report/s]"
      ]
     },
     "metadata": {},
     "output_type": "display_data"
    },
    {
     "data": {
      "application/vnd.jupyter.widget-view+json": {
       "model_id": "26d3e30250b84145a0c27c419511cc37",
       "version_major": 2,
       "version_minor": 0
      },
      "text/plain": [
       "Quarterly reports:   0%|          | 0/1 [00:00<?, ?report/s]"
      ]
     },
     "metadata": {},
     "output_type": "display_data"
    },
    {
     "data": {
      "application/vnd.jupyter.widget-view+json": {
       "model_id": "7b9ce8c901d84b9db3211ce7722da42c",
       "version_major": 2,
       "version_minor": 0
      },
      "text/plain": [
       "Quarterly reports:   0%|          | 0/1 [00:00<?, ?report/s]"
      ]
     },
     "metadata": {},
     "output_type": "display_data"
    },
    {
     "data": {
      "application/vnd.jupyter.widget-view+json": {
       "model_id": "8ddfb16d0d5b4221afd9c072ee989c67",
       "version_major": 2,
       "version_minor": 0
      },
      "text/plain": [
       "Quarterly reports:   0%|          | 0/1 [00:00<?, ?report/s]"
      ]
     },
     "metadata": {},
     "output_type": "display_data"
    },
    {
     "name": "stderr",
     "output_type": "stream",
     "text": [
      "Traceback (most recent call last):\n",
      "  File \"C:\\Users\\USER\\Desktop\\stock-recsys-pipeline\\env\\lib\\site-packages\\dart_fss\\fs\\extract.py\", line 1411, in extract\n",
      "    statements = analyze_report(report=report,\n",
      "  File \"C:\\Users\\USER\\Desktop\\stock-recsys-pipeline\\env\\lib\\site-packages\\dart_fss\\fs\\extract.py\", line 1264, in analyze_report\n",
      "    raise NotFoundConsolidated('Could not find consolidated financial statements')\n",
      "dart_fss.errors.errors.NotFoundConsolidated: Could not find consolidated financial statements\n",
      "C:\\Users\\USER\\Desktop\\stock-recsys-pipeline\\env\\lib\\site-packages\\dart_fss\\fs\\extract.py:1440: RuntimeWarning: Unable to extract financial statements: {'rcp_no': '20221114001368', 'corp_code': '00661847', 'corp_name': '화인베스틸', 'stock_code': '133820', 'corp_cls': 'Y', 'report_nm': '분기보고서 (2022.09)', 'flr_nm': '화인베스틸', 'rcept_dt': '20221114', 'rm': ''}.\n",
      "  warnings.warn(warnings_text, RuntimeWarning)\n"
     ]
    },
    {
     "data": {
      "application/vnd.jupyter.widget-view+json": {
       "model_id": "07ab6bf70bd146c8834e49ef3b43f6c2",
       "version_major": 2,
       "version_minor": 0
      },
      "text/plain": [
       "Quarterly reports:   0%|          | 0/1 [00:00<?, ?report/s]"
      ]
     },
     "metadata": {},
     "output_type": "display_data"
    },
    {
     "data": {
      "application/vnd.jupyter.widget-view+json": {
       "model_id": "b959ce9af2754a5e8343321988a14c12",
       "version_major": 2,
       "version_minor": 0
      },
      "text/plain": [
       "Quarterly reports:   0%|          | 0/1 [00:00<?, ?report/s]"
      ]
     },
     "metadata": {},
     "output_type": "display_data"
    },
    {
     "data": {
      "application/vnd.jupyter.widget-view+json": {
       "model_id": "0f7f3641a09a4ff58a0ce4448240fff5",
       "version_major": 2,
       "version_minor": 0
      },
      "text/plain": [
       "Quarterly reports:   0%|          | 0/1 [00:00<?, ?report/s]"
      ]
     },
     "metadata": {},
     "output_type": "display_data"
    },
    {
     "data": {
      "application/vnd.jupyter.widget-view+json": {
       "model_id": "82683b5b747a4e55a16b9d7e9ad13b1d",
       "version_major": 2,
       "version_minor": 0
      },
      "text/plain": [
       "Quarterly reports:   0%|          | 0/1 [00:00<?, ?report/s]"
      ]
     },
     "metadata": {},
     "output_type": "display_data"
    },
    {
     "name": "stderr",
     "output_type": "stream",
     "text": [
      "Traceback (most recent call last):\n",
      "  File \"C:\\Users\\USER\\Desktop\\stock-recsys-pipeline\\env\\lib\\site-packages\\dart_fss\\fs\\extract.py\", line 1411, in extract\n",
      "    statements = analyze_report(report=report,\n",
      "  File \"C:\\Users\\USER\\Desktop\\stock-recsys-pipeline\\env\\lib\\site-packages\\dart_fss\\fs\\extract.py\", line 1264, in analyze_report\n",
      "    raise NotFoundConsolidated('Could not find consolidated financial statements')\n",
      "dart_fss.errors.errors.NotFoundConsolidated: Could not find consolidated financial statements\n",
      "C:\\Users\\USER\\Desktop\\stock-recsys-pipeline\\env\\lib\\site-packages\\dart_fss\\fs\\extract.py:1440: RuntimeWarning: Unable to extract financial statements: {'rcp_no': '20221114001516', 'corp_code': '00111111', 'corp_name': '대양금속', 'stock_code': '009190', 'corp_cls': 'Y', 'report_nm': '분기보고서 (2022.09)', 'flr_nm': '대양금속', 'rcept_dt': '20221114', 'rm': ''}.\n",
      "  warnings.warn(warnings_text, RuntimeWarning)\n"
     ]
    },
    {
     "data": {
      "application/vnd.jupyter.widget-view+json": {
       "model_id": "6fcd105909884aa7a6ef1030e7a3e4db",
       "version_major": 2,
       "version_minor": 0
      },
      "text/plain": [
       "Quarterly reports:   0%|          | 0/1 [00:00<?, ?report/s]"
      ]
     },
     "metadata": {},
     "output_type": "display_data"
    },
    {
     "data": {
      "application/vnd.jupyter.widget-view+json": {
       "model_id": "1a594a555ea94758ba2930636ef4ae4f",
       "version_major": 2,
       "version_minor": 0
      },
      "text/plain": [
       "Quarterly reports:   0%|          | 0/1 [00:00<?, ?report/s]"
      ]
     },
     "metadata": {},
     "output_type": "display_data"
    },
    {
     "name": "stderr",
     "output_type": "stream",
     "text": [
      "Traceback (most recent call last):\n",
      "  File \"C:\\Users\\USER\\Desktop\\stock-recsys-pipeline\\env\\lib\\site-packages\\dart_fss\\fs\\extract.py\", line 1411, in extract\n",
      "    statements = analyze_report(report=report,\n",
      "  File \"C:\\Users\\USER\\Desktop\\stock-recsys-pipeline\\env\\lib\\site-packages\\dart_fss\\fs\\extract.py\", line 1264, in analyze_report\n",
      "    raise NotFoundConsolidated('Could not find consolidated financial statements')\n",
      "dart_fss.errors.errors.NotFoundConsolidated: Could not find consolidated financial statements\n",
      "C:\\Users\\USER\\Desktop\\stock-recsys-pipeline\\env\\lib\\site-packages\\dart_fss\\fs\\extract.py:1440: RuntimeWarning: Unable to extract financial statements: {'rcp_no': '20221114001080', 'corp_code': '00121570', 'corp_name': '문배철강', 'stock_code': '008420', 'corp_cls': 'Y', 'report_nm': '분기보고서 (2022.09)', 'flr_nm': '문배철강', 'rcept_dt': '20221114', 'rm': ''}.\n",
      "  warnings.warn(warnings_text, RuntimeWarning)\n"
     ]
    },
    {
     "data": {
      "application/vnd.jupyter.widget-view+json": {
       "model_id": "6ed1434284b64192aae08c7016364c1a",
       "version_major": 2,
       "version_minor": 0
      },
      "text/plain": [
       "Quarterly reports:   0%|          | 0/1 [00:00<?, ?report/s]"
      ]
     },
     "metadata": {},
     "output_type": "display_data"
    },
    {
     "data": {
      "application/vnd.jupyter.widget-view+json": {
       "model_id": "55304044eb11419f8566eed64e7fd273",
       "version_major": 2,
       "version_minor": 0
      },
      "text/plain": [
       "Quarterly reports:   0%|          | 0/1 [00:00<?, ?report/s]"
      ]
     },
     "metadata": {},
     "output_type": "display_data"
    },
    {
     "data": {
      "application/vnd.jupyter.widget-view+json": {
       "model_id": "a9372f16540942cfb7f6913ad69e66cf",
       "version_major": 2,
       "version_minor": 0
      },
      "text/plain": [
       "Quarterly reports:   0%|          | 0/1 [00:00<?, ?report/s]"
      ]
     },
     "metadata": {},
     "output_type": "display_data"
    },
    {
     "name": "stderr",
     "output_type": "stream",
     "text": [
      "Traceback (most recent call last):\n",
      "  File \"C:\\Users\\USER\\Desktop\\stock-recsys-pipeline\\env\\lib\\site-packages\\dart_fss\\fs\\extract.py\", line 1411, in extract\n",
      "    statements = analyze_report(report=report,\n",
      "  File \"C:\\Users\\USER\\Desktop\\stock-recsys-pipeline\\env\\lib\\site-packages\\dart_fss\\fs\\extract.py\", line 1264, in analyze_report\n",
      "    raise NotFoundConsolidated('Could not find consolidated financial statements')\n",
      "dart_fss.errors.errors.NotFoundConsolidated: Could not find consolidated financial statements\n",
      "C:\\Users\\USER\\Desktop\\stock-recsys-pipeline\\env\\lib\\site-packages\\dart_fss\\fs\\extract.py:1440: RuntimeWarning: Unable to extract financial statements: {'rcp_no': '20221114000990', 'corp_code': '00687711', 'corp_name': '한국철강', 'stock_code': '104700', 'corp_cls': 'Y', 'report_nm': '분기보고서 (2022.09)', 'flr_nm': '한국철강', 'rcept_dt': '20221114', 'rm': ''}.\n",
      "  warnings.warn(warnings_text, RuntimeWarning)\n"
     ]
    },
    {
     "data": {
      "application/vnd.jupyter.widget-view+json": {
       "model_id": "a798335a226d45e2916ad87cdc3cd1c8",
       "version_major": 2,
       "version_minor": 0
      },
      "text/plain": [
       "Quarterly reports:   0%|          | 0/1 [00:00<?, ?report/s]"
      ]
     },
     "metadata": {},
     "output_type": "display_data"
    },
    {
     "data": {
      "application/vnd.jupyter.widget-view+json": {
       "model_id": "fec8f19f3f924d1eb06b295db2a67e43",
       "version_major": 2,
       "version_minor": 0
      },
      "text/plain": [
       "Quarterly reports:   0%|          | 0/1 [00:00<?, ?report/s]"
      ]
     },
     "metadata": {},
     "output_type": "display_data"
    },
    {
     "name": "stderr",
     "output_type": "stream",
     "text": [
      "Traceback (most recent call last):\n",
      "  File \"C:\\Users\\USER\\Desktop\\stock-recsys-pipeline\\env\\lib\\site-packages\\dart_fss\\fs\\extract.py\", line 1411, in extract\n",
      "    statements = analyze_report(report=report,\n",
      "  File \"C:\\Users\\USER\\Desktop\\stock-recsys-pipeline\\env\\lib\\site-packages\\dart_fss\\fs\\extract.py\", line 1264, in analyze_report\n",
      "    raise NotFoundConsolidated('Could not find consolidated financial statements')\n",
      "dart_fss.errors.errors.NotFoundConsolidated: Could not find consolidated financial statements\n",
      "C:\\Users\\USER\\Desktop\\stock-recsys-pipeline\\env\\lib\\site-packages\\dart_fss\\fs\\extract.py:1440: RuntimeWarning: Unable to extract financial statements: {'rcp_no': '20221114001403', 'corp_code': '00177199', 'corp_name': '디씨엠', 'stock_code': '024090', 'corp_cls': 'Y', 'report_nm': '분기보고서 (2022.09)', 'flr_nm': '디씨엠', 'rcept_dt': '20221114', 'rm': ''}.\n",
      "  warnings.warn(warnings_text, RuntimeWarning)\n"
     ]
    },
    {
     "data": {
      "application/vnd.jupyter.widget-view+json": {
       "model_id": "c7b22c70994047148c00cf8c6466aa0d",
       "version_major": 2,
       "version_minor": 0
      },
      "text/plain": [
       "Quarterly reports:   0%|          | 0/1 [00:00<?, ?report/s]"
      ]
     },
     "metadata": {},
     "output_type": "display_data"
    },
    {
     "data": {
      "application/vnd.jupyter.widget-view+json": {
       "model_id": "7537ccff3fdb46b2850a91cfa05959b5",
       "version_major": 2,
       "version_minor": 0
      },
      "text/plain": [
       "Quarterly reports:   0%|          | 0/1 [00:00<?, ?report/s]"
      ]
     },
     "metadata": {},
     "output_type": "display_data"
    },
    {
     "data": {
      "application/vnd.jupyter.widget-view+json": {
       "model_id": "26489ef1942c4ec88269dfd86952c84b",
       "version_major": 2,
       "version_minor": 0
      },
      "text/plain": [
       "Quarterly reports:   0%|          | 0/1 [00:00<?, ?report/s]"
      ]
     },
     "metadata": {},
     "output_type": "display_data"
    },
    {
     "data": {
      "application/vnd.jupyter.widget-view+json": {
       "model_id": "5eb6a30e6caa40be8c65d92dc8195ccb",
       "version_major": 2,
       "version_minor": 0
      },
      "text/plain": [
       "Quarterly reports:   0%|          | 0/1 [00:00<?, ?report/s]"
      ]
     },
     "metadata": {},
     "output_type": "display_data"
    },
    {
     "data": {
      "application/vnd.jupyter.widget-view+json": {
       "model_id": "dc744984836843cc9e70be5d1564b039",
       "version_major": 2,
       "version_minor": 0
      },
      "text/plain": [
       "Quarterly reports:   0%|          | 0/1 [00:00<?, ?report/s]"
      ]
     },
     "metadata": {},
     "output_type": "display_data"
    },
    {
     "name": "stderr",
     "output_type": "stream",
     "text": [
      "Traceback (most recent call last):\n",
      "  File \"C:\\Users\\USER\\Desktop\\stock-recsys-pipeline\\env\\lib\\site-packages\\dart_fss\\fs\\extract.py\", line 1411, in extract\n",
      "    statements = analyze_report(report=report,\n",
      "  File \"C:\\Users\\USER\\Desktop\\stock-recsys-pipeline\\env\\lib\\site-packages\\dart_fss\\fs\\extract.py\", line 1264, in analyze_report\n",
      "    raise NotFoundConsolidated('Could not find consolidated financial statements')\n",
      "dart_fss.errors.errors.NotFoundConsolidated: Could not find consolidated financial statements\n",
      "C:\\Users\\USER\\Desktop\\stock-recsys-pipeline\\env\\lib\\site-packages\\dart_fss\\fs\\extract.py:1440: RuntimeWarning: Unable to extract financial statements: {'rcp_no': '20221111000571', 'corp_code': '00151298', 'corp_name': 'DSR제강', 'stock_code': '069730', 'corp_cls': 'Y', 'report_nm': '분기보고서 (2022.09)', 'flr_nm': 'DSR제강', 'rcept_dt': '20221111', 'rm': ''}.\n",
      "  warnings.warn(warnings_text, RuntimeWarning)\n"
     ]
    },
    {
     "data": {
      "application/vnd.jupyter.widget-view+json": {
       "model_id": "1a2b4c28499246e4886903f13973b561",
       "version_major": 2,
       "version_minor": 0
      },
      "text/plain": [
       "Quarterly reports:   0%|          | 0/1 [00:00<?, ?report/s]"
      ]
     },
     "metadata": {},
     "output_type": "display_data"
    },
    {
     "data": {
      "application/vnd.jupyter.widget-view+json": {
       "model_id": "bc41ba618dce4ad29d8ee0b39eb4062a",
       "version_major": 2,
       "version_minor": 0
      },
      "text/plain": [
       "Quarterly reports:   0%|          | 0/1 [00:00<?, ?report/s]"
      ]
     },
     "metadata": {},
     "output_type": "display_data"
    },
    {
     "data": {
      "application/vnd.jupyter.widget-view+json": {
       "model_id": "2bc55c90fcae4aa3ae36d0a346ee78a8",
       "version_major": 2,
       "version_minor": 0
      },
      "text/plain": [
       "Quarterly reports:   0%|          | 0/1 [00:00<?, ?report/s]"
      ]
     },
     "metadata": {},
     "output_type": "display_data"
    },
    {
     "name": "stderr",
     "output_type": "stream",
     "text": [
      "Traceback (most recent call last):\n",
      "  File \"C:\\Users\\USER\\Desktop\\stock-recsys-pipeline\\env\\lib\\site-packages\\dart_fss\\fs\\extract.py\", line 1411, in extract\n",
      "    statements = analyze_report(report=report,\n",
      "  File \"C:\\Users\\USER\\Desktop\\stock-recsys-pipeline\\env\\lib\\site-packages\\dart_fss\\fs\\extract.py\", line 1264, in analyze_report\n",
      "    raise NotFoundConsolidated('Could not find consolidated financial statements')\n",
      "dart_fss.errors.errors.NotFoundConsolidated: Could not find consolidated financial statements\n",
      "C:\\Users\\USER\\Desktop\\stock-recsys-pipeline\\env\\lib\\site-packages\\dart_fss\\fs\\extract.py:1440: RuntimeWarning: Unable to extract financial statements: {'rcp_no': '20221114001112', 'corp_code': '00118451', 'corp_name': '동일제강', 'stock_code': '002690', 'corp_cls': 'Y', 'report_nm': '분기보고서 (2022.09)', 'flr_nm': '동일제강', 'rcept_dt': '20221114', 'rm': ''}.\n",
      "  warnings.warn(warnings_text, RuntimeWarning)\n"
     ]
    },
    {
     "data": {
      "application/vnd.jupyter.widget-view+json": {
       "model_id": "5474e42d3a354b15a048c967bc60f059",
       "version_major": 2,
       "version_minor": 0
      },
      "text/plain": [
       "Quarterly reports:   0%|          | 0/1 [00:00<?, ?report/s]"
      ]
     },
     "metadata": {},
     "output_type": "display_data"
    },
    {
     "name": "stderr",
     "output_type": "stream",
     "text": [
      "Traceback (most recent call last):\n",
      "  File \"C:\\Users\\USER\\Desktop\\stock-recsys-pipeline\\env\\lib\\site-packages\\dart_fss\\fs\\extract.py\", line 1411, in extract\n",
      "    statements = analyze_report(report=report,\n",
      "  File \"C:\\Users\\USER\\Desktop\\stock-recsys-pipeline\\env\\lib\\site-packages\\dart_fss\\fs\\extract.py\", line 1264, in analyze_report\n",
      "    raise NotFoundConsolidated('Could not find consolidated financial statements')\n",
      "dart_fss.errors.errors.NotFoundConsolidated: Could not find consolidated financial statements\n",
      "C:\\Users\\USER\\Desktop\\stock-recsys-pipeline\\env\\lib\\site-packages\\dart_fss\\fs\\extract.py:1440: RuntimeWarning: Unable to extract financial statements: {'rcp_no': '20221114001893', 'corp_code': '00120872', 'corp_name': '만호제강', 'stock_code': '001080', 'corp_cls': 'Y', 'report_nm': '분기보고서 (2022.09)', 'flr_nm': '만호제강', 'rcept_dt': '20221114', 'rm': ''}.\n",
      "  warnings.warn(warnings_text, RuntimeWarning)\n"
     ]
    },
    {
     "data": {
      "application/vnd.jupyter.widget-view+json": {
       "model_id": "154538518bff40c49b9115dc064a4c58",
       "version_major": 2,
       "version_minor": 0
      },
      "text/plain": [
       "Quarterly reports:   0%|          | 0/1 [00:00<?, ?report/s]"
      ]
     },
     "metadata": {},
     "output_type": "display_data"
    },
    {
     "data": {
      "application/vnd.jupyter.widget-view+json": {
       "model_id": "fb954752ff924167925f8b6ad1f7870c",
       "version_major": 2,
       "version_minor": 0
      },
      "text/plain": [
       "Quarterly reports:   0%|          | 0/1 [00:00<?, ?report/s]"
      ]
     },
     "metadata": {},
     "output_type": "display_data"
    },
    {
     "data": {
      "application/vnd.jupyter.widget-view+json": {
       "model_id": "4f9adfab4e9545d79e93ae860359c92c",
       "version_major": 2,
       "version_minor": 0
      },
      "text/plain": [
       "Quarterly reports:   0%|          | 0/1 [00:00<?, ?report/s]"
      ]
     },
     "metadata": {},
     "output_type": "display_data"
    },
    {
     "name": "stderr",
     "output_type": "stream",
     "text": [
      "Traceback (most recent call last):\n",
      "  File \"C:\\Users\\USER\\Desktop\\stock-recsys-pipeline\\env\\lib\\site-packages\\dart_fss\\fs\\extract.py\", line 1411, in extract\n",
      "    statements = analyze_report(report=report,\n",
      "  File \"C:\\Users\\USER\\Desktop\\stock-recsys-pipeline\\env\\lib\\site-packages\\dart_fss\\fs\\extract.py\", line 1264, in analyze_report\n",
      "    raise NotFoundConsolidated('Could not find consolidated financial statements')\n",
      "dart_fss.errors.errors.NotFoundConsolidated: Could not find consolidated financial statements\n",
      "C:\\Users\\USER\\Desktop\\stock-recsys-pipeline\\env\\lib\\site-packages\\dart_fss\\fs\\extract.py:1440: RuntimeWarning: Unable to extract financial statements: {'rcp_no': '20221114000578', 'corp_code': '01325979', 'corp_name': '세아제강', 'stock_code': '306200', 'corp_cls': 'Y', 'report_nm': '분기보고서 (2022.09)', 'flr_nm': '세아제강', 'rcept_dt': '20221114', 'rm': ''}.\n",
      "  warnings.warn(warnings_text, RuntimeWarning)\n"
     ]
    },
    {
     "data": {
      "application/vnd.jupyter.widget-view+json": {
       "model_id": "9a6b284a79ad42b1aa3a60637dba086a",
       "version_major": 2,
       "version_minor": 0
      },
      "text/plain": [
       "Quarterly reports:   0%|          | 0/1 [00:00<?, ?report/s]"
      ]
     },
     "metadata": {},
     "output_type": "display_data"
    },
    {
     "name": "stderr",
     "output_type": "stream",
     "text": [
      "Traceback (most recent call last):\n",
      "  File \"C:\\Users\\USER\\Desktop\\stock-recsys-pipeline\\env\\lib\\site-packages\\dart_fss\\fs\\extract.py\", line 1411, in extract\n",
      "    statements = analyze_report(report=report,\n",
      "  File \"C:\\Users\\USER\\Desktop\\stock-recsys-pipeline\\env\\lib\\site-packages\\dart_fss\\fs\\extract.py\", line 1264, in analyze_report\n",
      "    raise NotFoundConsolidated('Could not find consolidated financial statements')\n",
      "dart_fss.errors.errors.NotFoundConsolidated: Could not find consolidated financial statements\n",
      "C:\\Users\\USER\\Desktop\\stock-recsys-pipeline\\env\\lib\\site-packages\\dart_fss\\fs\\extract.py:1440: RuntimeWarning: Unable to extract financial statements: {'rcp_no': '20221114002046', 'corp_code': '00124090', 'corp_name': '한국특강', 'stock_code': '007280', 'corp_cls': 'Y', 'report_nm': '분기보고서 (2022.09)', 'flr_nm': '한국특강', 'rcept_dt': '20221114', 'rm': ''}.\n",
      "  warnings.warn(warnings_text, RuntimeWarning)\n"
     ]
    },
    {
     "data": {
      "application/vnd.jupyter.widget-view+json": {
       "model_id": "de946410d9de491ca54c0f61b5549a69",
       "version_major": 2,
       "version_minor": 0
      },
      "text/plain": [
       "Quarterly reports:   0%|          | 0/1 [00:00<?, ?report/s]"
      ]
     },
     "metadata": {},
     "output_type": "display_data"
    },
    {
     "data": {
      "application/vnd.jupyter.widget-view+json": {
       "model_id": "a5ec929eeb2e4bafa8c3fb02b65232c6",
       "version_major": 2,
       "version_minor": 0
      },
      "text/plain": [
       "Quarterly reports:   0%|          | 0/1 [00:00<?, ?report/s]"
      ]
     },
     "metadata": {},
     "output_type": "display_data"
    },
    {
     "data": {
      "application/vnd.jupyter.widget-view+json": {
       "model_id": "e5980e7c10564dc39e5ea5223a1b8601",
       "version_major": 2,
       "version_minor": 0
      },
      "text/plain": [
       "Quarterly reports:   0%|          | 0/1 [00:00<?, ?report/s]"
      ]
     },
     "metadata": {},
     "output_type": "display_data"
    },
    {
     "data": {
      "application/vnd.jupyter.widget-view+json": {
       "model_id": "0569084e9fb54e719c50353f181817d4",
       "version_major": 2,
       "version_minor": 0
      },
      "text/plain": [
       "Quarterly reports:   0%|          | 0/1 [00:00<?, ?report/s]"
      ]
     },
     "metadata": {},
     "output_type": "display_data"
    },
    {
     "name": "stderr",
     "output_type": "stream",
     "text": [
      "Traceback (most recent call last):\n",
      "  File \"C:\\Users\\USER\\Desktop\\stock-recsys-pipeline\\env\\lib\\site-packages\\dart_fss\\fs\\extract.py\", line 1411, in extract\n",
      "    statements = analyze_report(report=report,\n",
      "  File \"C:\\Users\\USER\\Desktop\\stock-recsys-pipeline\\env\\lib\\site-packages\\dart_fss\\fs\\extract.py\", line 1264, in analyze_report\n",
      "    raise NotFoundConsolidated('Could not find consolidated financial statements')\n",
      "dart_fss.errors.errors.NotFoundConsolidated: Could not find consolidated financial statements\n",
      "C:\\Users\\USER\\Desktop\\stock-recsys-pipeline\\env\\lib\\site-packages\\dart_fss\\fs\\extract.py:1440: RuntimeWarning: Unable to extract financial statements: {'rcp_no': '20221114001224', 'corp_code': '00109268', 'corp_name': '대동스틸', 'stock_code': '048470', 'corp_cls': 'K', 'report_nm': '분기보고서 (2022.09)', 'flr_nm': '대동스틸', 'rcept_dt': '20221114', 'rm': ''}.\n",
      "  warnings.warn(warnings_text, RuntimeWarning)\n"
     ]
    },
    {
     "data": {
      "application/vnd.jupyter.widget-view+json": {
       "model_id": "68989b26a4fc4251b528cf34b374cacc",
       "version_major": 2,
       "version_minor": 0
      },
      "text/plain": [
       "Quarterly reports:   0%|          | 0/1 [00:00<?, ?report/s]"
      ]
     },
     "metadata": {},
     "output_type": "display_data"
    },
    {
     "name": "stderr",
     "output_type": "stream",
     "text": [
      "Traceback (most recent call last):\n",
      "  File \"C:\\Users\\USER\\Desktop\\stock-recsys-pipeline\\env\\lib\\site-packages\\dart_fss\\fs\\extract.py\", line 1411, in extract\n",
      "    statements = analyze_report(report=report,\n",
      "  File \"C:\\Users\\USER\\Desktop\\stock-recsys-pipeline\\env\\lib\\site-packages\\dart_fss\\fs\\extract.py\", line 1264, in analyze_report\n",
      "    raise NotFoundConsolidated('Could not find consolidated financial statements')\n",
      "dart_fss.errors.errors.NotFoundConsolidated: Could not find consolidated financial statements\n",
      "C:\\Users\\USER\\Desktop\\stock-recsys-pipeline\\env\\lib\\site-packages\\dart_fss\\fs\\extract.py:1440: RuntimeWarning: Unable to extract financial statements: {'rcp_no': '20221114000842', 'corp_code': '00128926', 'corp_name': '삼현철강', 'stock_code': '017480', 'corp_cls': 'K', 'report_nm': '분기보고서 (2022.09)', 'flr_nm': '삼현철강', 'rcept_dt': '20221114', 'rm': ''}.\n",
      "  warnings.warn(warnings_text, RuntimeWarning)\n"
     ]
    },
    {
     "data": {
      "application/vnd.jupyter.widget-view+json": {
       "model_id": "9631abc8fea84a3b992a641e43e90212",
       "version_major": 2,
       "version_minor": 0
      },
      "text/plain": [
       "Quarterly reports:   0%|          | 0/1 [00:00<?, ?report/s]"
      ]
     },
     "metadata": {},
     "output_type": "display_data"
    },
    {
     "data": {
      "application/vnd.jupyter.widget-view+json": {
       "model_id": "361c70104dbb48ba8829010e0cafdcae",
       "version_major": 2,
       "version_minor": 0
      },
      "text/plain": [
       "Quarterly reports:   0%|          | 0/1 [00:00<?, ?report/s]"
      ]
     },
     "metadata": {},
     "output_type": "display_data"
    },
    {
     "data": {
      "application/vnd.jupyter.widget-view+json": {
       "model_id": "ed357389604b4e318eb1a68fee152ea2",
       "version_major": 2,
       "version_minor": 0
      },
      "text/plain": [
       "Quarterly reports:   0%|          | 0/1 [00:00<?, ?report/s]"
      ]
     },
     "metadata": {},
     "output_type": "display_data"
    },
    {
     "name": "stderr",
     "output_type": "stream",
     "text": [
      "Traceback (most recent call last):\n",
      "  File \"C:\\Users\\USER\\Desktop\\stock-recsys-pipeline\\env\\lib\\site-packages\\dart_fss\\fs\\extract.py\", line 1411, in extract\n",
      "    statements = analyze_report(report=report,\n",
      "  File \"C:\\Users\\USER\\Desktop\\stock-recsys-pipeline\\env\\lib\\site-packages\\dart_fss\\fs\\extract.py\", line 1264, in analyze_report\n",
      "    raise NotFoundConsolidated('Could not find consolidated financial statements')\n",
      "dart_fss.errors.errors.NotFoundConsolidated: Could not find consolidated financial statements\n",
      "C:\\Users\\USER\\Desktop\\stock-recsys-pipeline\\env\\lib\\site-packages\\dart_fss\\fs\\extract.py:1440: RuntimeWarning: Unable to extract financial statements: {'rcp_no': '20221114001354', 'corp_code': '00206039', 'corp_name': '경남스틸', 'stock_code': '039240', 'corp_cls': 'K', 'report_nm': '분기보고서 (2022.09)', 'flr_nm': '경남스틸', 'rcept_dt': '20221114', 'rm': ''}.\n",
      "  warnings.warn(warnings_text, RuntimeWarning)\n"
     ]
    },
    {
     "data": {
      "application/vnd.jupyter.widget-view+json": {
       "model_id": "f610b574e3b34026a5d18ffc60dafaec",
       "version_major": 2,
       "version_minor": 0
      },
      "text/plain": [
       "Quarterly reports:   0%|          | 0/1 [00:00<?, ?report/s]"
      ]
     },
     "metadata": {},
     "output_type": "display_data"
    },
    {
     "data": {
      "application/vnd.jupyter.widget-view+json": {
       "model_id": "b510749e9ee742c9970f5f30ebd5567d",
       "version_major": 2,
       "version_minor": 0
      },
      "text/plain": [
       "Quarterly reports:   0%|          | 0/1 [00:00<?, ?report/s]"
      ]
     },
     "metadata": {},
     "output_type": "display_data"
    },
    {
     "data": {
      "application/vnd.jupyter.widget-view+json": {
       "model_id": "6c381d813d4641dd87f1fbac12d43dc4",
       "version_major": 2,
       "version_minor": 0
      },
      "text/plain": [
       "Quarterly reports:   0%|          | 0/1 [00:00<?, ?report/s]"
      ]
     },
     "metadata": {},
     "output_type": "display_data"
    },
    {
     "name": "stderr",
     "output_type": "stream",
     "text": [
      "Traceback (most recent call last):\n",
      "  File \"C:\\Users\\USER\\Desktop\\stock-recsys-pipeline\\env\\lib\\site-packages\\dart_fss\\fs\\extract.py\", line 1411, in extract\n",
      "    statements = analyze_report(report=report,\n",
      "  File \"C:\\Users\\USER\\Desktop\\stock-recsys-pipeline\\env\\lib\\site-packages\\dart_fss\\fs\\extract.py\", line 1264, in analyze_report\n",
      "    raise NotFoundConsolidated('Could not find consolidated financial statements')\n",
      "dart_fss.errors.errors.NotFoundConsolidated: Could not find consolidated financial statements\n",
      "C:\\Users\\USER\\Desktop\\stock-recsys-pipeline\\env\\lib\\site-packages\\dart_fss\\fs\\extract.py:1440: RuntimeWarning: Unable to extract financial statements: {'rcp_no': '20221114001533', 'corp_code': '00128111', 'corp_name': '포스코엠텍', 'stock_code': '009520', 'corp_cls': 'K', 'report_nm': '분기보고서 (2022.09)', 'flr_nm': '포스코엠텍', 'rcept_dt': '20221114', 'rm': ''}.\n",
      "  warnings.warn(warnings_text, RuntimeWarning)\n"
     ]
    },
    {
     "data": {
      "application/vnd.jupyter.widget-view+json": {
       "model_id": "87e77d20d7564ddbadaaa390fcbfa9c2",
       "version_major": 2,
       "version_minor": 0
      },
      "text/plain": [
       "Quarterly reports:   0%|          | 0/1 [00:00<?, ?report/s]"
      ]
     },
     "metadata": {},
     "output_type": "display_data"
    },
    {
     "name": "stderr",
     "output_type": "stream",
     "text": [
      "Traceback (most recent call last):\n",
      "  File \"C:\\Users\\USER\\Desktop\\stock-recsys-pipeline\\env\\lib\\site-packages\\dart_fss\\fs\\extract.py\", line 1411, in extract\n",
      "    statements = analyze_report(report=report,\n",
      "  File \"C:\\Users\\USER\\Desktop\\stock-recsys-pipeline\\env\\lib\\site-packages\\dart_fss\\fs\\extract.py\", line 1264, in analyze_report\n",
      "    raise NotFoundConsolidated('Could not find consolidated financial statements')\n",
      "dart_fss.errors.errors.NotFoundConsolidated: Could not find consolidated financial statements\n",
      "C:\\Users\\USER\\Desktop\\stock-recsys-pipeline\\env\\lib\\site-packages\\dart_fss\\fs\\extract.py:1440: RuntimeWarning: Unable to extract financial statements: {'rcp_no': '20221114002288', 'corp_code': '01196313', 'corp_name': '유에스티', 'stock_code': '263770', 'corp_cls': 'K', 'report_nm': '분기보고서 (2022.09)', 'flr_nm': '유에스티', 'rcept_dt': '20221114', 'rm': ''}.\n",
      "  warnings.warn(warnings_text, RuntimeWarning)\n"
     ]
    },
    {
     "data": {
      "application/vnd.jupyter.widget-view+json": {
       "model_id": "9ca4053508164c3aacea5000febdbb27",
       "version_major": 2,
       "version_minor": 0
      },
      "text/plain": [
       "Quarterly reports:   0%|          | 0/1 [00:00<?, ?report/s]"
      ]
     },
     "metadata": {},
     "output_type": "display_data"
    },
    {
     "data": {
      "application/vnd.jupyter.widget-view+json": {
       "model_id": "6004e220ce9d4f9ba540602e80bc62ff",
       "version_major": 2,
       "version_minor": 0
      },
      "text/plain": [
       "Quarterly reports:   0%|          | 0/1 [00:00<?, ?report/s]"
      ]
     },
     "metadata": {},
     "output_type": "display_data"
    },
    {
     "data": {
      "application/vnd.jupyter.widget-view+json": {
       "model_id": "09b103b6dd6e46589431ee701860facf",
       "version_major": 2,
       "version_minor": 0
      },
      "text/plain": [
       "Quarterly reports:   0%|          | 0/1 [00:00<?, ?report/s]"
      ]
     },
     "metadata": {},
     "output_type": "display_data"
    },
    {
     "name": "stderr",
     "output_type": "stream",
     "text": [
      "Traceback (most recent call last):\n",
      "  File \"C:\\Users\\USER\\Desktop\\stock-recsys-pipeline\\env\\lib\\site-packages\\dart_fss\\fs\\extract.py\", line 1411, in extract\n",
      "    statements = analyze_report(report=report,\n",
      "  File \"C:\\Users\\USER\\Desktop\\stock-recsys-pipeline\\env\\lib\\site-packages\\dart_fss\\fs\\extract.py\", line 1264, in analyze_report\n",
      "    raise NotFoundConsolidated('Could not find consolidated financial statements')\n",
      "dart_fss.errors.errors.NotFoundConsolidated: Could not find consolidated financial statements\n",
      "C:\\Users\\USER\\Desktop\\stock-recsys-pipeline\\env\\lib\\site-packages\\dart_fss\\fs\\extract.py:1440: RuntimeWarning: Unable to extract financial statements: {'rcp_no': '20221114001931', 'corp_code': '00148531', 'corp_name': '제이스코홀딩스', 'stock_code': '023440', 'corp_cls': 'K', 'report_nm': '분기보고서 (2022.09)', 'flr_nm': '제이스코홀딩스', 'rcept_dt': '20221114', 'rm': ''}.\n",
      "  warnings.warn(warnings_text, RuntimeWarning)\n"
     ]
    },
    {
     "data": {
      "application/vnd.jupyter.widget-view+json": {
       "model_id": "f344d0e2a86745fb9582763360c3abf4",
       "version_major": 2,
       "version_minor": 0
      },
      "text/plain": [
       "Quarterly reports:   0%|          | 0/1 [00:00<?, ?report/s]"
      ]
     },
     "metadata": {},
     "output_type": "display_data"
    },
    {
     "data": {
      "application/vnd.jupyter.widget-view+json": {
       "model_id": "2afe313dd0494d708fbdd01857df578b",
       "version_major": 2,
       "version_minor": 0
      },
      "text/plain": [
       "Quarterly reports:   0%|          | 0/1 [00:00<?, ?report/s]"
      ]
     },
     "metadata": {},
     "output_type": "display_data"
    },
    {
     "data": {
      "application/vnd.jupyter.widget-view+json": {
       "model_id": "63f8325019ff4acbbbfcd89d15c4f7f6",
       "version_major": 2,
       "version_minor": 0
      },
      "text/plain": [
       "Quarterly reports:   0%|          | 0/1 [00:00<?, ?report/s]"
      ]
     },
     "metadata": {},
     "output_type": "display_data"
    },
    {
     "data": {
      "application/vnd.jupyter.widget-view+json": {
       "model_id": "775c41481f124723948522819ac61c02",
       "version_major": 2,
       "version_minor": 0
      },
      "text/plain": [
       "Quarterly reports:   0%|          | 0/1 [00:00<?, ?report/s]"
      ]
     },
     "metadata": {},
     "output_type": "display_data"
    },
    {
     "name": "stderr",
     "output_type": "stream",
     "text": [
      "Traceback (most recent call last):\n",
      "  File \"C:\\Users\\USER\\Desktop\\stock-recsys-pipeline\\env\\lib\\site-packages\\dart_fss\\fs\\extract.py\", line 1411, in extract\n",
      "    statements = analyze_report(report=report,\n",
      "  File \"C:\\Users\\USER\\Desktop\\stock-recsys-pipeline\\env\\lib\\site-packages\\dart_fss\\fs\\extract.py\", line 1264, in analyze_report\n",
      "    raise NotFoundConsolidated('Could not find consolidated financial statements')\n",
      "dart_fss.errors.errors.NotFoundConsolidated: Could not find consolidated financial statements\n",
      "C:\\Users\\USER\\Desktop\\stock-recsys-pipeline\\env\\lib\\site-packages\\dart_fss\\fs\\extract.py:1440: RuntimeWarning: Unable to extract financial statements: {'rcp_no': '20221114001318', 'corp_code': '00172945', 'corp_name': '동일철강', 'stock_code': '023790', 'corp_cls': 'K', 'report_nm': '분기보고서 (2022.09)', 'flr_nm': '동일철강', 'rcept_dt': '20221114', 'rm': ''}.\n",
      "  warnings.warn(warnings_text, RuntimeWarning)\n"
     ]
    },
    {
     "data": {
      "application/vnd.jupyter.widget-view+json": {
       "model_id": "112ad10ad18045898cf5127e0ad99bf2",
       "version_major": 2,
       "version_minor": 0
      },
      "text/plain": [
       "Quarterly reports:   0%|          | 0/1 [00:00<?, ?report/s]"
      ]
     },
     "metadata": {},
     "output_type": "display_data"
    },
    {
     "data": {
      "application/vnd.jupyter.widget-view+json": {
       "model_id": "359b3ab67973424f8bf01f7579b8b185",
       "version_major": 2,
       "version_minor": 0
      },
      "text/plain": [
       "Quarterly reports:   0%|          | 0/1 [00:00<?, ?report/s]"
      ]
     },
     "metadata": {},
     "output_type": "display_data"
    },
    {
     "data": {
      "application/vnd.jupyter.widget-view+json": {
       "model_id": "1bf865fbd09e4780a6d6f419b323a20b",
       "version_major": 2,
       "version_minor": 0
      },
      "text/plain": [
       "Quarterly reports:   0%|          | 0/1 [00:00<?, ?report/s]"
      ]
     },
     "metadata": {},
     "output_type": "display_data"
    },
    {
     "data": {
      "application/vnd.jupyter.widget-view+json": {
       "model_id": "12855180c02c4a7197b981cae9e3db04",
       "version_major": 2,
       "version_minor": 0
      },
      "text/plain": [
       "Quarterly reports:   0%|          | 0/1 [00:00<?, ?report/s]"
      ]
     },
     "metadata": {},
     "output_type": "display_data"
    },
    {
     "data": {
      "application/vnd.jupyter.widget-view+json": {
       "model_id": "6d4dfdfa47074858888a63497b5a1d2e",
       "version_major": 2,
       "version_minor": 0
      },
      "text/plain": [
       "Quarterly reports:   0%|          | 0/1 [00:00<?, ?report/s]"
      ]
     },
     "metadata": {},
     "output_type": "display_data"
    },
    {
     "data": {
      "application/vnd.jupyter.widget-view+json": {
       "model_id": "fefacdae3168493ea8e4d833e2e7ad71",
       "version_major": 2,
       "version_minor": 0
      },
      "text/plain": [
       "Quarterly reports:   0%|          | 0/1 [00:00<?, ?report/s]"
      ]
     },
     "metadata": {},
     "output_type": "display_data"
    },
    {
     "data": {
      "application/vnd.jupyter.widget-view+json": {
       "model_id": "fef2b2b545ac426aa1a34f86181c1b5c",
       "version_major": 2,
       "version_minor": 0
      },
      "text/plain": [
       "Quarterly reports:   0%|          | 0/1 [00:00<?, ?report/s]"
      ]
     },
     "metadata": {},
     "output_type": "display_data"
    },
    {
     "data": {
      "application/vnd.jupyter.widget-view+json": {
       "model_id": "ba6fb821aa0443909ccf7b4c55796d1b",
       "version_major": 2,
       "version_minor": 0
      },
      "text/plain": [
       "Quarterly reports:   0%|          | 0/1 [00:00<?, ?report/s]"
      ]
     },
     "metadata": {},
     "output_type": "display_data"
    },
    {
     "data": {
      "application/vnd.jupyter.widget-view+json": {
       "model_id": "0e404578fcf1459baaf13c8d82b780ff",
       "version_major": 2,
       "version_minor": 0
      },
      "text/plain": [
       "Quarterly reports:   0%|          | 0/1 [00:00<?, ?report/s]"
      ]
     },
     "metadata": {},
     "output_type": "display_data"
    },
    {
     "data": {
      "application/vnd.jupyter.widget-view+json": {
       "model_id": "71ef31e5132c4f48bcac9ea74f5fdd02",
       "version_major": 2,
       "version_minor": 0
      },
      "text/plain": [
       "Quarterly reports:   0%|          | 0/1 [00:00<?, ?report/s]"
      ]
     },
     "metadata": {},
     "output_type": "display_data"
    }
   ],
   "source": [
    "for i in sector_list:\n",
    "    corps_by_y_sector = corp_list.find_by_sector(i, market ='Y') # 코스피\n",
    "    corps_by_k_sector = corp_list.find_by_sector(i, market ='K') # 코스닥\n",
    "    \n",
    "    for j in corps_by_y_sector:\n",
    "        roe(j)\n",
    "    \n",
    "    for j in corps_by_k_sector:\n",
    "        roe(j)"
   ]
  }
 ],
 "metadata": {
  "kernelspec": {
   "display_name": "Python 3 (ipykernel)",
   "language": "python",
   "name": "python3"
  },
  "language_info": {
   "codemirror_mode": {
    "name": "ipython",
    "version": 3
   },
   "file_extension": ".py",
   "mimetype": "text/x-python",
   "name": "python",
   "nbconvert_exporter": "python",
   "pygments_lexer": "ipython3",
   "version": "3.9.11"
  },
  "vscode": {
   "interpreter": {
    "hash": "a98189a59ef034594894620c5f793e55f32e7d37c92e3c306a2f211a52d38f6e"
   }
  }
 },
 "nbformat": 4,
 "nbformat_minor": 5
}
