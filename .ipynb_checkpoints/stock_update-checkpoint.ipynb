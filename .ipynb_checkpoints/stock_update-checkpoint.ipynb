{
 "cells": [
  {
   "cell_type": "code",
   "execution_count": null,
   "id": "28f32385",
   "metadata": {},
   "outputs": [],
   "source": [
    "# 상장 폐지한 종목에 대해 stock 테이블의 레코드 삭제"
   ]
  },
  {
   "cell_type": "code",
   "execution_count": 4,
   "id": "5c445ece",
   "metadata": {},
   "outputs": [],
   "source": [
    "import import_ipynb"
   ]
  },
  {
   "cell_type": "code",
   "execution_count": 7,
   "id": "bd7fed9f",
   "metadata": {},
   "outputs": [],
   "source": [
    "def delete(sql, stock):\n",
    "    conn = pymysql.connect(host = 'localhost', user = 'root', password = 'jycforest', db = 'stock_recsys_db', charset = 'utf8')\n",
    "    sql = \"DELETE FROM stock where id=\"+stock.id\n",
    "    with conn:\n",
    "        with conn.cursor() as cur:\n",
    "            cur.execute(sql)\n",
    "        conn.commit()"
   ]
  },
  {
   "cell_type": "code",
   "execution_count": null,
   "id": "2a79f2f7",
   "metadata": {},
   "outputs": [],
   "source": []
  }
 ],
 "metadata": {
  "kernelspec": {
   "display_name": "Python 3 (ipykernel)",
   "language": "python",
   "name": "python3"
  },
  "language_info": {
   "codemirror_mode": {
    "name": "ipython",
    "version": 3
   },
   "file_extension": ".py",
   "mimetype": "text/x-python",
   "name": "python",
   "nbconvert_exporter": "python",
   "pygments_lexer": "ipython3",
   "version": "3.9.11"
  }
 },
 "nbformat": 4,
 "nbformat_minor": 5
}
