{
 "cells": [
  {
   "cell_type": "code",
   "execution_count": 1,
   "id": "5f8defc2",
   "metadata": {},
   "outputs": [],
   "source": [
    "import pymysql"
   ]
  },
  {
   "cell_type": "code",
   "execution_count": 2,
   "id": "e0db9590",
   "metadata": {},
   "outputs": [],
   "source": [
    "# api 키 세팅\n",
    "api_key = \"\t1c6dbdbbb0cf307d3455b383d0b780d09e83bfb7\""
   ]
  },
  {
   "cell_type": "code",
   "execution_count": 3,
   "id": "484ea89a",
   "metadata": {},
   "outputs": [],
   "source": [
    "conn = pymysql.connect(host = 'localhost', user = 'root', password = 'jycforest', db = 'stock_recsys_db', charset = 'utf8') "
   ]
  },
  {
   "cell_type": "code",
   "execution_count": null,
   "id": "cbcef0d5",
   "metadata": {},
   "outputs": [],
   "source": []
  }
 ],
 "metadata": {
  "kernelspec": {
   "display_name": "Python 3 (ipykernel)",
   "language": "python",
   "name": "python3"
  },
  "language_info": {
   "codemirror_mode": {
    "name": "ipython",
    "version": 3
   },
   "file_extension": ".py",
   "mimetype": "text/x-python",
   "name": "python",
   "nbconvert_exporter": "python",
   "pygments_lexer": "ipython3",
   "version": "3.9.11"
  }
 },
 "nbformat": 4,
 "nbformat_minor": 5
}
