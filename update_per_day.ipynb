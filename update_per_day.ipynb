{
 "cells": [
  {
   "cell_type": "code",
   "execution_count": 1,
   "id": "5b72cb3a",
   "metadata": {},
   "outputs": [],
   "source": [
    "import pymysql\n",
    "import yfinance as yf\n",
    "import import_ipynb"
   ]
  },
  {
   "cell_type": "code",
   "execution_count": 2,
   "id": "a890057a",
   "metadata": {},
   "outputs": [
    {
     "name": "stdout",
     "output_type": "stream",
     "text": [
      "importing Jupyter notebook from settings.ipynb\n"
     ]
    }
   ],
   "source": [
    "from settings import conn"
   ]
  },
  {
   "cell_type": "code",
   "execution_count": 3,
   "id": "7e6ca3c6",
   "metadata": {},
   "outputs": [],
   "source": [
    "conn = conn"
   ]
  },
  {
   "cell_type": "code",
   "execution_count": 4,
   "id": "7862ae6d",
   "metadata": {},
   "outputs": [],
   "source": [
    "cursor = conn.cursor()"
   ]
  },
  {
   "cell_type": "code",
   "execution_count": 5,
   "id": "6b2ed29c",
   "metadata": {},
   "outputs": [],
   "source": [
    "def stock_delete(stock_code):\n",
    "    sql = \"DELETE FROM stock where code = '{0}'\".format(stock_code)\n",
    "    cursor.execute(sql)\n",
    "    conn.commit()"
   ]
  },
  {
   "cell_type": "code",
   "execution_count": null,
   "id": "58a3d65e",
   "metadata": {},
   "outputs": [],
   "source": [
    "sql = \"SELECT * FROM stock\""
   ]
  },
  {
   "cell_type": "code",
   "execution_count": null,
   "id": "46ea06f6",
   "metadata": {},
   "outputs": [],
   "source": [
    "cursor.execute(sql)\n",
    "stocks = cursor.fetchall()\n",
    "conn.commit()"
   ]
  },
  {
   "cell_type": "code",
   "execution_count": null,
   "id": "794cc45d",
   "metadata": {},
   "outputs": [],
   "source": [
    "sql = \"INSERT INTO record (stock_code, date, volume, price) VALUES (%s, %s, %s, %s)\""
   ]
  },
  {
   "cell_type": "code",
   "execution_count": null,
   "id": "6932b2b9",
   "metadata": {},
   "outputs": [],
   "source": [
    "for j in stocks:\n",
    "    try:\n",
    "        d = yf.Ticker(j[0]+\".KS\")\n",
    "        transaction = d.history(\"1d\")\n",
    "        transaction = transaction.reset_index()\n",
    "        transaction = transaction[['Date', 'Close', 'Volume']]\n",
    "        transaction['Date'] = transaction['Date'].dt.strftime(\"%Y-%m-%d\")\n",
    "        transaction['Close'] = transaction['Close'].astype('int')\n",
    "        for k in range(len(transaction)):\n",
    "            cursor.execute(sql, (j[0], transaction['Date'][k], transaction['Volume'][k], transaction['Close'][k]))\n",
    "    except:\n",
    "        stock_delete(j[0]) # yfinance에서 지원하지 않게된(상장 폐지 등) 종목 삭제\n",
    "conn.commit()"
   ]
  },
  {
   "cell_type": "code",
   "execution_count": null,
   "id": "5ac2e110",
   "metadata": {},
   "outputs": [],
   "source": [
    "for i in stocks:\n",
    "    sql = \"SELECT * FROM record WHERE stock_code = {0} ORDER BY date\".format(i[0])\n",
    "    cursor.execute(sql)\n",
    "    record = cur.fetchall()\n",
    "\n",
    "    record_day5 = record[-4:]\n",
    "    start = record_day5[0][1]\n",
    "    end = record_day5[-1][1]\n",
    "    record_day5 = [(j[2], j[3]) for j in record_day5]\n",
    "    avg_volume, avg_price = np.mean(record_day5, axis = 0)\n",
    "    avg_sd_volume, avg_sd_price = np.std(record_day5, axis = 0)\n",
    "    cursor.execute(\"INSERT INTO day5 (stock_code, start, end, avg_volume, avg_price, avg_sd_volume, avg_sd_price) VALUES (%s, %s, %s, %s, %s, %s, %s)\", (i[0], start, end, avg_volume, avg_price, round(avg_sd_volume, 1), round(avg_sd_price, 1)))\n",
    "    conn.commit()\n",
    "\n",
    "    record_month = record[-29:]\n",
    "    start = record_month[0][1]\n",
    "    end = record_month[-1][1]\n",
    "    record_month = [(j[2], j[3]) for j in record_month]\n",
    "    avg_volume, avg_price = np.mean(record_month, axis = 0)\n",
    "    avg_sd_volume, avg_sd_price = np.std(record_month, axis = 0)\n",
    "    cursor.execute(\"INSERT INTO month (stock_code, start, end, avg_volume, avg_price, avg_sd_volume, avg_sd_price) VALUES (%s, %s, %s, %s, %s, %s, %s)\", (i[0], start, end, avg_volume, avg_price, round(avg_sd_volume, 1), round(avg_sd_price, 1)))\n",
    "    conn.commit()\n",
    "\n",
    "    start = record[0][1]\n",
    "    end = record[-1][1]\n",
    "    record = [(j[2], j[3]) for j in record]\n",
    "    avg_volume, avg_price = np.mean(record, axis = 0)\n",
    "    avg_sd_volume, avg_sd_price = np.std(record, axis = 0)\n",
    "    cursor.execute(\"INSERT INTO quarter (stock_code, start, end, avg_volume, avg_price, avg_sd_volume, avg_sd_price) VALUES (%s, %s, %s, %s, %s, %s, %s)\", (i[0], start, end, avg_volume, avg_price, round(avg_sd_volume, 1), round(avg_sd_price, 1)))\n",
    "    conn.commit()"
   ]
  },
  {
   "cell_type": "code",
   "execution_count": null,
   "id": "071d1f73",
   "metadata": {},
   "outputs": [],
   "source": [
    "conn.close()"
   ]
  }
 ],
 "metadata": {
  "kernelspec": {
   "display_name": "Python 3 (ipykernel)",
   "language": "python",
   "name": "python3"
  },
  "language_info": {
   "codemirror_mode": {
    "name": "ipython",
    "version": 3
   },
   "file_extension": ".py",
   "mimetype": "text/x-python",
   "name": "python",
   "nbconvert_exporter": "python",
   "pygments_lexer": "ipython3",
   "version": "3.9.11"
  }
 },
 "nbformat": 4,
 "nbformat_minor": 5
}
