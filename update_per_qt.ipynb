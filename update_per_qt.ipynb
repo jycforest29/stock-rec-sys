{
 "cells": [
  {
   "cell_type": "markdown",
   "id": "48a8ff62",
   "metadata": {},
   "source": [
    "# a stock record delete"
   ]
  },
  {
   "cell_type": "code",
   "execution_count": 1,
   "id": "c9b60859",
   "metadata": {},
   "outputs": [],
   "source": [
    "def stock_delete(corp):\n",
    "    conn = pymysql.connect(host = 'localhost', user = 'root', password = 'jycforest', db = 'stock_recsys_db', charset = 'utf8')\n",
    "    sql = \"DELETE FROM stock where name='{0}' and code = '{1}'\".format(corp.corp_name, corp.stock_code+'.KS')\n",
    "    with conn:\n",
    "        with conn.cursor() as cur:\n",
    "            cur.execute(sql)\n",
    "        conn.commit()"
   ]
  },
  {
   "cell_type": "code",
   "execution_count": null,
   "id": "8fe34014",
   "metadata": {},
   "outputs": [],
   "source": []
  }
 ],
 "metadata": {
  "kernelspec": {
   "display_name": "Python 3 (ipykernel)",
   "language": "python",
   "name": "python3"
  },
  "language_info": {
   "codemirror_mode": {
    "name": "ipython",
    "version": 3
   },
   "file_extension": ".py",
   "mimetype": "text/x-python",
   "name": "python",
   "nbconvert_exporter": "python",
   "pygments_lexer": "ipython3",
   "version": "3.9.11"
  }
 },
 "nbformat": 4,
 "nbformat_minor": 5
}
